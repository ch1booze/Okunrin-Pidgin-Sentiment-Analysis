{
 "cells": [
  {
   "cell_type": "code",
   "execution_count": 5,
   "metadata": {},
   "outputs": [
    {
     "name": "stdout",
     "output_type": "stream",
     "text": [
      "Loaded as API: https://nithub-ai-ehn-english-to-nigerian-pidgin-translator.hf.space/ ✔\n",
      "('What is Ifihan talking about?', 'What did Ifihan say about?', 'What is Ifihan saying about?')\n"
     ]
    }
   ],
   "source": [
    "from gradio_client import Client\n",
    "\n",
    "client = Client(\"https://nithub-ai-ehn-english-to-nigerian-pidgin-translator.hf.space/\")\n",
    "result = client.predict(\n",
    "    \"BBGM Model (PCM to EN)\",\n",
    "    \"Wetin Ifihan dey talk about sef?\",\n",
    "    api_name=\"/predict\",\n",
    ")\n",
    "print(result)"
   ]
  },
  {
   "cell_type": "code",
   "execution_count": 8,
   "metadata": {},
   "outputs": [
    {
     "name": "stdout",
     "output_type": "stream",
     "text": [
      "[(42,)]\n"
     ]
    }
   ],
   "source": [
    "import duckdb\n",
    "\n",
    "cursor = duckdb.connect()\n",
    "print(cursor.execute('SELECT 42').fetchall())"
   ]
  }
 ],
 "metadata": {
  "kernelspec": {
   "display_name": "venv",
   "language": "python",
   "name": "python3"
  },
  "language_info": {
   "codemirror_mode": {
    "name": "ipython",
    "version": 3
   },
   "file_extension": ".py",
   "mimetype": "text/x-python",
   "name": "python",
   "nbconvert_exporter": "python",
   "pygments_lexer": "ipython3",
   "version": "3.10.12"
  }
 },
 "nbformat": 4,
 "nbformat_minor": 2
}
